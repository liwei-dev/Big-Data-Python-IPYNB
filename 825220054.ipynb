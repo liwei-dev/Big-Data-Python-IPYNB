{
 "cells": [
  {
   "cell_type": "code",
   "execution_count": 76,
   "metadata": {},
   "outputs": [
    {
     "name": "stdout",
     "output_type": "stream",
     "text": [
      "      Tanggal  Tn    Tx  Tavg RH_avg    RR   ss ff_x ddd_x ff_avg ddd_car  \\\n",
      "0  01-01-2000  22  31.6  26.6     89  62.8    2  NaN   NaN      0      N    \n",
      "1  02-01-2000  22  28.1  25.1     93     0    0  NaN   NaN      0      W    \n",
      "2  03-01-2000  22  32.9  26.5     86     0  5.2  NaN   NaN      0      W    \n",
      "3  04-01-2000  22  33.6  26.8     90  13.5  5.3  NaN   NaN      1      W    \n",
      "4  05-01-2000  23  31.6  26.6     89  43.2  4.3  NaN   NaN      2      S    \n",
      "\n",
      "   Unnamed: 11  Unnamed: 12 Unnamed: 13  \n",
      "0          NaN          NaN         NaN  \n",
      "1          NaN          NaN         NaN  \n",
      "2          NaN          NaN         NaN  \n",
      "3          NaN          NaN         NaN  \n",
      "4          NaN          NaN         NaN  \n"
     ]
    }
   ],
   "source": [
    "import pandas as pd\n",
    "import numpy as np\n",
    "\n",
    "#Membaca data file dataset \"DATA BMKG KABUPATEN SINTANG TAHUN 2000-2009\" dengan format xlsx yang dinamakan \"825220054_dataset.xlsx\"\n",
    "file = \"825220054_dataset.xlsx\"\n",
    "nc = pd.read_excel(file, engine='openpyxl') \n",
    "print(nc.head())"
   ]
  },
  {
   "cell_type": "code",
   "execution_count": 77,
   "metadata": {},
   "outputs": [
    {
     "data": {
      "text/plain": [
       "Tanggal           0\n",
       "Tn                1\n",
       "Tx                2\n",
       "Tavg              1\n",
       "RH_avg            2\n",
       "RR                1\n",
       "ss               12\n",
       "ff_x           3225\n",
       "ddd_x          3226\n",
       "ff_avg            1\n",
       "ddd_car           2\n",
       "Unnamed: 11    3773\n",
       "Unnamed: 12    3773\n",
       "Unnamed: 13    3772\n",
       "dtype: int64"
      ]
     },
     "execution_count": 77,
     "metadata": {},
     "output_type": "execute_result"
    }
   ],
   "source": [
    "#Untuk menunjukkan setiap kolom\n",
    "nc.isna().sum()"
   ]
  },
  {
   "cell_type": "code",
   "execution_count": 78,
   "metadata": {},
   "outputs": [
    {
     "data": {
      "text/plain": [
       "Tanggal          0.000000\n",
       "Tn               0.026504\n",
       "Tx               0.053008\n",
       "Tavg             0.026504\n",
       "RH_avg           0.053008\n",
       "RR               0.026504\n",
       "ss               0.318049\n",
       "ff_x            85.475749\n",
       "ddd_x           85.502253\n",
       "ff_avg           0.026504\n",
       "ddd_car          0.053008\n",
       "Unnamed: 11    100.000000\n",
       "Unnamed: 12    100.000000\n",
       "Unnamed: 13     99.973496\n",
       "dtype: float64"
      ]
     },
     "execution_count": 78,
     "metadata": {},
     "output_type": "execute_result"
    }
   ],
   "source": [
    "#Untuk menampilkan persentase nilai null/missing value\n",
    "nc.isna().sum()/len(nc)*100"
   ]
  },
  {
   "cell_type": "code",
   "execution_count": 81,
   "metadata": {},
   "outputs": [],
   "source": [
    "#Untuk drop kolom yang memiliki persentasi nilai null diatas 30% yaitu ff_x\n",
    "nc2 = nc.drop(['ff_x'], axis = 1)"
   ]
  },
  {
   "cell_type": "code",
   "execution_count": 82,
   "metadata": {},
   "outputs": [
    {
     "data": {
      "text/html": [
       "<div>\n",
       "<style scoped>\n",
       "    .dataframe tbody tr th:only-of-type {\n",
       "        vertical-align: middle;\n",
       "    }\n",
       "\n",
       "    .dataframe tbody tr th {\n",
       "        vertical-align: top;\n",
       "    }\n",
       "\n",
       "    .dataframe thead th {\n",
       "        text-align: right;\n",
       "    }\n",
       "</style>\n",
       "<table border=\"1\" class=\"dataframe\">\n",
       "  <thead>\n",
       "    <tr style=\"text-align: right;\">\n",
       "      <th></th>\n",
       "      <th>Tanggal</th>\n",
       "      <th>Tn</th>\n",
       "      <th>Tx</th>\n",
       "      <th>Tavg</th>\n",
       "      <th>RH_avg</th>\n",
       "      <th>RR</th>\n",
       "      <th>ss</th>\n",
       "      <th>ddd_x</th>\n",
       "      <th>ff_avg</th>\n",
       "      <th>ddd_car</th>\n",
       "      <th>Unnamed: 11</th>\n",
       "      <th>Unnamed: 12</th>\n",
       "      <th>Unnamed: 13</th>\n",
       "    </tr>\n",
       "  </thead>\n",
       "  <tbody>\n",
       "    <tr>\n",
       "      <th>0</th>\n",
       "      <td>01-01-2000</td>\n",
       "      <td>22</td>\n",
       "      <td>31.6</td>\n",
       "      <td>26.6</td>\n",
       "      <td>89</td>\n",
       "      <td>62.8</td>\n",
       "      <td>2</td>\n",
       "      <td>NaN</td>\n",
       "      <td>0</td>\n",
       "      <td>N</td>\n",
       "      <td>NaN</td>\n",
       "      <td>NaN</td>\n",
       "      <td>NaN</td>\n",
       "    </tr>\n",
       "    <tr>\n",
       "      <th>1</th>\n",
       "      <td>02-01-2000</td>\n",
       "      <td>22</td>\n",
       "      <td>28.1</td>\n",
       "      <td>25.1</td>\n",
       "      <td>93</td>\n",
       "      <td>0</td>\n",
       "      <td>0</td>\n",
       "      <td>NaN</td>\n",
       "      <td>0</td>\n",
       "      <td>W</td>\n",
       "      <td>NaN</td>\n",
       "      <td>NaN</td>\n",
       "      <td>NaN</td>\n",
       "    </tr>\n",
       "    <tr>\n",
       "      <th>2</th>\n",
       "      <td>03-01-2000</td>\n",
       "      <td>22</td>\n",
       "      <td>32.9</td>\n",
       "      <td>26.5</td>\n",
       "      <td>86</td>\n",
       "      <td>0</td>\n",
       "      <td>5.2</td>\n",
       "      <td>NaN</td>\n",
       "      <td>0</td>\n",
       "      <td>W</td>\n",
       "      <td>NaN</td>\n",
       "      <td>NaN</td>\n",
       "      <td>NaN</td>\n",
       "    </tr>\n",
       "    <tr>\n",
       "      <th>3</th>\n",
       "      <td>04-01-2000</td>\n",
       "      <td>22</td>\n",
       "      <td>33.6</td>\n",
       "      <td>26.8</td>\n",
       "      <td>90</td>\n",
       "      <td>13.5</td>\n",
       "      <td>5.3</td>\n",
       "      <td>NaN</td>\n",
       "      <td>1</td>\n",
       "      <td>W</td>\n",
       "      <td>NaN</td>\n",
       "      <td>NaN</td>\n",
       "      <td>NaN</td>\n",
       "    </tr>\n",
       "    <tr>\n",
       "      <th>4</th>\n",
       "      <td>05-01-2000</td>\n",
       "      <td>23</td>\n",
       "      <td>31.6</td>\n",
       "      <td>26.6</td>\n",
       "      <td>89</td>\n",
       "      <td>43.2</td>\n",
       "      <td>4.3</td>\n",
       "      <td>NaN</td>\n",
       "      <td>2</td>\n",
       "      <td>S</td>\n",
       "      <td>NaN</td>\n",
       "      <td>NaN</td>\n",
       "      <td>NaN</td>\n",
       "    </tr>\n",
       "  </tbody>\n",
       "</table>\n",
       "</div>"
      ],
      "text/plain": [
       "      Tanggal  Tn    Tx  Tavg RH_avg    RR   ss ddd_x ff_avg ddd_car  \\\n",
       "0  01-01-2000  22  31.6  26.6     89  62.8    2   NaN      0      N    \n",
       "1  02-01-2000  22  28.1  25.1     93     0    0   NaN      0      W    \n",
       "2  03-01-2000  22  32.9  26.5     86     0  5.2   NaN      0      W    \n",
       "3  04-01-2000  22  33.6  26.8     90  13.5  5.3   NaN      1      W    \n",
       "4  05-01-2000  23  31.6  26.6     89  43.2  4.3   NaN      2      S    \n",
       "\n",
       "   Unnamed: 11  Unnamed: 12 Unnamed: 13  \n",
       "0          NaN          NaN         NaN  \n",
       "1          NaN          NaN         NaN  \n",
       "2          NaN          NaN         NaN  \n",
       "3          NaN          NaN         NaN  \n",
       "4          NaN          NaN         NaN  "
      ]
     },
     "execution_count": 82,
     "metadata": {},
     "output_type": "execute_result"
    }
   ],
   "source": [
    "#Untuk menampilkan 5 baris teratas dari tabel\n",
    "nc2.head()"
   ]
  },
  {
   "cell_type": "code",
   "execution_count": 84,
   "metadata": {},
   "outputs": [
    {
     "data": {
      "text/plain": [
       "Tanggal          0.000000\n",
       "Tn               0.026504\n",
       "Tx               0.053008\n",
       "Tavg             0.026504\n",
       "RH_avg           0.053008\n",
       "RR               0.026504\n",
       "ss               0.318049\n",
       "ddd_x           85.502253\n",
       "ff_avg           0.026504\n",
       "ddd_car          0.053008\n",
       "Unnamed: 11    100.000000\n",
       "Unnamed: 12    100.000000\n",
       "Unnamed: 13     99.973496\n",
       "dtype: float64"
      ]
     },
     "execution_count": 84,
     "metadata": {},
     "output_type": "execute_result"
    }
   ],
   "source": [
    "#Untuk menampilkan persentase nilai null/missing value\n",
    "nc2.isna().sum()/len(nc2)*100"
   ]
  },
  {
   "cell_type": "code",
   "execution_count": 85,
   "metadata": {},
   "outputs": [],
   "source": [
    "#Untuk drop kolom yang memiliki persentasi nilai null diatas 30% yaitu ddd_x\n",
    "nc3 = nc2.drop(['ddd_x'], axis = 1)"
   ]
  },
  {
   "cell_type": "code",
   "execution_count": 86,
   "metadata": {},
   "outputs": [
    {
     "data": {
      "text/html": [
       "<div>\n",
       "<style scoped>\n",
       "    .dataframe tbody tr th:only-of-type {\n",
       "        vertical-align: middle;\n",
       "    }\n",
       "\n",
       "    .dataframe tbody tr th {\n",
       "        vertical-align: top;\n",
       "    }\n",
       "\n",
       "    .dataframe thead th {\n",
       "        text-align: right;\n",
       "    }\n",
       "</style>\n",
       "<table border=\"1\" class=\"dataframe\">\n",
       "  <thead>\n",
       "    <tr style=\"text-align: right;\">\n",
       "      <th></th>\n",
       "      <th>Tanggal</th>\n",
       "      <th>Tn</th>\n",
       "      <th>Tx</th>\n",
       "      <th>Tavg</th>\n",
       "      <th>RH_avg</th>\n",
       "      <th>RR</th>\n",
       "      <th>ss</th>\n",
       "      <th>ff_avg</th>\n",
       "      <th>ddd_car</th>\n",
       "      <th>Unnamed: 11</th>\n",
       "      <th>Unnamed: 12</th>\n",
       "      <th>Unnamed: 13</th>\n",
       "    </tr>\n",
       "  </thead>\n",
       "  <tbody>\n",
       "    <tr>\n",
       "      <th>0</th>\n",
       "      <td>01-01-2000</td>\n",
       "      <td>22</td>\n",
       "      <td>31.6</td>\n",
       "      <td>26.6</td>\n",
       "      <td>89</td>\n",
       "      <td>62.8</td>\n",
       "      <td>2</td>\n",
       "      <td>0</td>\n",
       "      <td>N</td>\n",
       "      <td>NaN</td>\n",
       "      <td>NaN</td>\n",
       "      <td>NaN</td>\n",
       "    </tr>\n",
       "    <tr>\n",
       "      <th>1</th>\n",
       "      <td>02-01-2000</td>\n",
       "      <td>22</td>\n",
       "      <td>28.1</td>\n",
       "      <td>25.1</td>\n",
       "      <td>93</td>\n",
       "      <td>0</td>\n",
       "      <td>0</td>\n",
       "      <td>0</td>\n",
       "      <td>W</td>\n",
       "      <td>NaN</td>\n",
       "      <td>NaN</td>\n",
       "      <td>NaN</td>\n",
       "    </tr>\n",
       "    <tr>\n",
       "      <th>2</th>\n",
       "      <td>03-01-2000</td>\n",
       "      <td>22</td>\n",
       "      <td>32.9</td>\n",
       "      <td>26.5</td>\n",
       "      <td>86</td>\n",
       "      <td>0</td>\n",
       "      <td>5.2</td>\n",
       "      <td>0</td>\n",
       "      <td>W</td>\n",
       "      <td>NaN</td>\n",
       "      <td>NaN</td>\n",
       "      <td>NaN</td>\n",
       "    </tr>\n",
       "    <tr>\n",
       "      <th>3</th>\n",
       "      <td>04-01-2000</td>\n",
       "      <td>22</td>\n",
       "      <td>33.6</td>\n",
       "      <td>26.8</td>\n",
       "      <td>90</td>\n",
       "      <td>13.5</td>\n",
       "      <td>5.3</td>\n",
       "      <td>1</td>\n",
       "      <td>W</td>\n",
       "      <td>NaN</td>\n",
       "      <td>NaN</td>\n",
       "      <td>NaN</td>\n",
       "    </tr>\n",
       "    <tr>\n",
       "      <th>4</th>\n",
       "      <td>05-01-2000</td>\n",
       "      <td>23</td>\n",
       "      <td>31.6</td>\n",
       "      <td>26.6</td>\n",
       "      <td>89</td>\n",
       "      <td>43.2</td>\n",
       "      <td>4.3</td>\n",
       "      <td>2</td>\n",
       "      <td>S</td>\n",
       "      <td>NaN</td>\n",
       "      <td>NaN</td>\n",
       "      <td>NaN</td>\n",
       "    </tr>\n",
       "  </tbody>\n",
       "</table>\n",
       "</div>"
      ],
      "text/plain": [
       "      Tanggal  Tn    Tx  Tavg RH_avg    RR   ss ff_avg ddd_car  Unnamed: 11  \\\n",
       "0  01-01-2000  22  31.6  26.6     89  62.8    2      0      N           NaN   \n",
       "1  02-01-2000  22  28.1  25.1     93     0    0      0      W           NaN   \n",
       "2  03-01-2000  22  32.9  26.5     86     0  5.2      0      W           NaN   \n",
       "3  04-01-2000  22  33.6  26.8     90  13.5  5.3      1      W           NaN   \n",
       "4  05-01-2000  23  31.6  26.6     89  43.2  4.3      2      S           NaN   \n",
       "\n",
       "   Unnamed: 12 Unnamed: 13  \n",
       "0          NaN         NaN  \n",
       "1          NaN         NaN  \n",
       "2          NaN         NaN  \n",
       "3          NaN         NaN  \n",
       "4          NaN         NaN  "
      ]
     },
     "execution_count": 86,
     "metadata": {},
     "output_type": "execute_result"
    }
   ],
   "source": [
    "#Untuk menampilkan 5 baris teratas dari tabel\n",
    "nc3.head()"
   ]
  },
  {
   "cell_type": "code",
   "execution_count": 87,
   "metadata": {},
   "outputs": [
    {
     "data": {
      "text/plain": [
       "Tanggal          0.000000\n",
       "Tn               0.026504\n",
       "Tx               0.053008\n",
       "Tavg             0.026504\n",
       "RH_avg           0.053008\n",
       "RR               0.026504\n",
       "ss               0.318049\n",
       "ff_avg           0.026504\n",
       "ddd_car          0.053008\n",
       "Unnamed: 11    100.000000\n",
       "Unnamed: 12    100.000000\n",
       "Unnamed: 13     99.973496\n",
       "dtype: float64"
      ]
     },
     "execution_count": 87,
     "metadata": {},
     "output_type": "execute_result"
    }
   ],
   "source": [
    "#Untuk menampilkan persentase nilai null/missing value\n",
    "nc3.isna().sum()/len(nc3)*100"
   ]
  },
  {
   "cell_type": "code",
   "execution_count": 88,
   "metadata": {},
   "outputs": [],
   "source": [
    "#Untuk drop kolom yang memiliki persentasi nilai null diatas 30% yaitu Unnamed: 11\n",
    "nc4 = nc3.drop(['Unnamed: 11'], axis = 1)"
   ]
  },
  {
   "cell_type": "code",
   "execution_count": 89,
   "metadata": {},
   "outputs": [
    {
     "data": {
      "text/html": [
       "<div>\n",
       "<style scoped>\n",
       "    .dataframe tbody tr th:only-of-type {\n",
       "        vertical-align: middle;\n",
       "    }\n",
       "\n",
       "    .dataframe tbody tr th {\n",
       "        vertical-align: top;\n",
       "    }\n",
       "\n",
       "    .dataframe thead th {\n",
       "        text-align: right;\n",
       "    }\n",
       "</style>\n",
       "<table border=\"1\" class=\"dataframe\">\n",
       "  <thead>\n",
       "    <tr style=\"text-align: right;\">\n",
       "      <th></th>\n",
       "      <th>Tanggal</th>\n",
       "      <th>Tn</th>\n",
       "      <th>Tx</th>\n",
       "      <th>Tavg</th>\n",
       "      <th>RH_avg</th>\n",
       "      <th>RR</th>\n",
       "      <th>ss</th>\n",
       "      <th>ff_avg</th>\n",
       "      <th>ddd_car</th>\n",
       "      <th>Unnamed: 12</th>\n",
       "      <th>Unnamed: 13</th>\n",
       "    </tr>\n",
       "  </thead>\n",
       "  <tbody>\n",
       "    <tr>\n",
       "      <th>0</th>\n",
       "      <td>01-01-2000</td>\n",
       "      <td>22</td>\n",
       "      <td>31.6</td>\n",
       "      <td>26.6</td>\n",
       "      <td>89</td>\n",
       "      <td>62.8</td>\n",
       "      <td>2</td>\n",
       "      <td>0</td>\n",
       "      <td>N</td>\n",
       "      <td>NaN</td>\n",
       "      <td>NaN</td>\n",
       "    </tr>\n",
       "    <tr>\n",
       "      <th>1</th>\n",
       "      <td>02-01-2000</td>\n",
       "      <td>22</td>\n",
       "      <td>28.1</td>\n",
       "      <td>25.1</td>\n",
       "      <td>93</td>\n",
       "      <td>0</td>\n",
       "      <td>0</td>\n",
       "      <td>0</td>\n",
       "      <td>W</td>\n",
       "      <td>NaN</td>\n",
       "      <td>NaN</td>\n",
       "    </tr>\n",
       "    <tr>\n",
       "      <th>2</th>\n",
       "      <td>03-01-2000</td>\n",
       "      <td>22</td>\n",
       "      <td>32.9</td>\n",
       "      <td>26.5</td>\n",
       "      <td>86</td>\n",
       "      <td>0</td>\n",
       "      <td>5.2</td>\n",
       "      <td>0</td>\n",
       "      <td>W</td>\n",
       "      <td>NaN</td>\n",
       "      <td>NaN</td>\n",
       "    </tr>\n",
       "    <tr>\n",
       "      <th>3</th>\n",
       "      <td>04-01-2000</td>\n",
       "      <td>22</td>\n",
       "      <td>33.6</td>\n",
       "      <td>26.8</td>\n",
       "      <td>90</td>\n",
       "      <td>13.5</td>\n",
       "      <td>5.3</td>\n",
       "      <td>1</td>\n",
       "      <td>W</td>\n",
       "      <td>NaN</td>\n",
       "      <td>NaN</td>\n",
       "    </tr>\n",
       "    <tr>\n",
       "      <th>4</th>\n",
       "      <td>05-01-2000</td>\n",
       "      <td>23</td>\n",
       "      <td>31.6</td>\n",
       "      <td>26.6</td>\n",
       "      <td>89</td>\n",
       "      <td>43.2</td>\n",
       "      <td>4.3</td>\n",
       "      <td>2</td>\n",
       "      <td>S</td>\n",
       "      <td>NaN</td>\n",
       "      <td>NaN</td>\n",
       "    </tr>\n",
       "  </tbody>\n",
       "</table>\n",
       "</div>"
      ],
      "text/plain": [
       "      Tanggal  Tn    Tx  Tavg RH_avg    RR   ss ff_avg ddd_car  Unnamed: 12  \\\n",
       "0  01-01-2000  22  31.6  26.6     89  62.8    2      0      N           NaN   \n",
       "1  02-01-2000  22  28.1  25.1     93     0    0      0      W           NaN   \n",
       "2  03-01-2000  22  32.9  26.5     86     0  5.2      0      W           NaN   \n",
       "3  04-01-2000  22  33.6  26.8     90  13.5  5.3      1      W           NaN   \n",
       "4  05-01-2000  23  31.6  26.6     89  43.2  4.3      2      S           NaN   \n",
       "\n",
       "  Unnamed: 13  \n",
       "0         NaN  \n",
       "1         NaN  \n",
       "2         NaN  \n",
       "3         NaN  \n",
       "4         NaN  "
      ]
     },
     "execution_count": 89,
     "metadata": {},
     "output_type": "execute_result"
    }
   ],
   "source": [
    "#Untuk menampilkan 5 baris teratas dari tabel\n",
    "nc4.head()"
   ]
  },
  {
   "cell_type": "code",
   "execution_count": 90,
   "metadata": {},
   "outputs": [
    {
     "data": {
      "text/plain": [
       "Tanggal          0.000000\n",
       "Tn               0.026504\n",
       "Tx               0.053008\n",
       "Tavg             0.026504\n",
       "RH_avg           0.053008\n",
       "RR               0.026504\n",
       "ss               0.318049\n",
       "ff_avg           0.026504\n",
       "ddd_car          0.053008\n",
       "Unnamed: 12    100.000000\n",
       "Unnamed: 13     99.973496\n",
       "dtype: float64"
      ]
     },
     "execution_count": 90,
     "metadata": {},
     "output_type": "execute_result"
    }
   ],
   "source": [
    "#Untuk menampilkan persentase nilai null/missing value\n",
    "nc4.isna().sum()/len(nc4)*100"
   ]
  },
  {
   "cell_type": "code",
   "execution_count": 92,
   "metadata": {},
   "outputs": [],
   "source": [
    "#Untuk drop kolom yang memiliki persentasi nilai null diatas 30% yaitu Unnamed: 12\n",
    "nc5 = nc4.drop(['Unnamed: 12'], axis = 1)"
   ]
  },
  {
   "cell_type": "code",
   "execution_count": 93,
   "metadata": {},
   "outputs": [
    {
     "data": {
      "text/html": [
       "<div>\n",
       "<style scoped>\n",
       "    .dataframe tbody tr th:only-of-type {\n",
       "        vertical-align: middle;\n",
       "    }\n",
       "\n",
       "    .dataframe tbody tr th {\n",
       "        vertical-align: top;\n",
       "    }\n",
       "\n",
       "    .dataframe thead th {\n",
       "        text-align: right;\n",
       "    }\n",
       "</style>\n",
       "<table border=\"1\" class=\"dataframe\">\n",
       "  <thead>\n",
       "    <tr style=\"text-align: right;\">\n",
       "      <th></th>\n",
       "      <th>Tanggal</th>\n",
       "      <th>Tn</th>\n",
       "      <th>Tx</th>\n",
       "      <th>Tavg</th>\n",
       "      <th>RH_avg</th>\n",
       "      <th>RR</th>\n",
       "      <th>ss</th>\n",
       "      <th>ff_avg</th>\n",
       "      <th>ddd_car</th>\n",
       "      <th>Unnamed: 13</th>\n",
       "    </tr>\n",
       "  </thead>\n",
       "  <tbody>\n",
       "    <tr>\n",
       "      <th>0</th>\n",
       "      <td>01-01-2000</td>\n",
       "      <td>22</td>\n",
       "      <td>31.6</td>\n",
       "      <td>26.6</td>\n",
       "      <td>89</td>\n",
       "      <td>62.8</td>\n",
       "      <td>2</td>\n",
       "      <td>0</td>\n",
       "      <td>N</td>\n",
       "      <td>NaN</td>\n",
       "    </tr>\n",
       "    <tr>\n",
       "      <th>1</th>\n",
       "      <td>02-01-2000</td>\n",
       "      <td>22</td>\n",
       "      <td>28.1</td>\n",
       "      <td>25.1</td>\n",
       "      <td>93</td>\n",
       "      <td>0</td>\n",
       "      <td>0</td>\n",
       "      <td>0</td>\n",
       "      <td>W</td>\n",
       "      <td>NaN</td>\n",
       "    </tr>\n",
       "    <tr>\n",
       "      <th>2</th>\n",
       "      <td>03-01-2000</td>\n",
       "      <td>22</td>\n",
       "      <td>32.9</td>\n",
       "      <td>26.5</td>\n",
       "      <td>86</td>\n",
       "      <td>0</td>\n",
       "      <td>5.2</td>\n",
       "      <td>0</td>\n",
       "      <td>W</td>\n",
       "      <td>NaN</td>\n",
       "    </tr>\n",
       "    <tr>\n",
       "      <th>3</th>\n",
       "      <td>04-01-2000</td>\n",
       "      <td>22</td>\n",
       "      <td>33.6</td>\n",
       "      <td>26.8</td>\n",
       "      <td>90</td>\n",
       "      <td>13.5</td>\n",
       "      <td>5.3</td>\n",
       "      <td>1</td>\n",
       "      <td>W</td>\n",
       "      <td>NaN</td>\n",
       "    </tr>\n",
       "    <tr>\n",
       "      <th>4</th>\n",
       "      <td>05-01-2000</td>\n",
       "      <td>23</td>\n",
       "      <td>31.6</td>\n",
       "      <td>26.6</td>\n",
       "      <td>89</td>\n",
       "      <td>43.2</td>\n",
       "      <td>4.3</td>\n",
       "      <td>2</td>\n",
       "      <td>S</td>\n",
       "      <td>NaN</td>\n",
       "    </tr>\n",
       "  </tbody>\n",
       "</table>\n",
       "</div>"
      ],
      "text/plain": [
       "      Tanggal  Tn    Tx  Tavg RH_avg    RR   ss ff_avg ddd_car Unnamed: 13\n",
       "0  01-01-2000  22  31.6  26.6     89  62.8    2      0      N          NaN\n",
       "1  02-01-2000  22  28.1  25.1     93     0    0      0      W          NaN\n",
       "2  03-01-2000  22  32.9  26.5     86     0  5.2      0      W          NaN\n",
       "3  04-01-2000  22  33.6  26.8     90  13.5  5.3      1      W          NaN\n",
       "4  05-01-2000  23  31.6  26.6     89  43.2  4.3      2      S          NaN"
      ]
     },
     "execution_count": 93,
     "metadata": {},
     "output_type": "execute_result"
    }
   ],
   "source": [
    "#Untuk menampilkan 5 baris teratas dari tabel\n",
    "nc5.head()"
   ]
  },
  {
   "cell_type": "code",
   "execution_count": 94,
   "metadata": {},
   "outputs": [
    {
     "data": {
      "text/plain": [
       "Tanggal         0.000000\n",
       "Tn              0.026504\n",
       "Tx              0.053008\n",
       "Tavg            0.026504\n",
       "RH_avg          0.053008\n",
       "RR              0.026504\n",
       "ss              0.318049\n",
       "ff_avg          0.026504\n",
       "ddd_car         0.053008\n",
       "Unnamed: 13    99.973496\n",
       "dtype: float64"
      ]
     },
     "execution_count": 94,
     "metadata": {},
     "output_type": "execute_result"
    }
   ],
   "source": [
    "#Untuk menampilkan persentase nilai null/missing value\n",
    "nc5.isna().sum()/len(nc5)*100"
   ]
  },
  {
   "cell_type": "code",
   "execution_count": 95,
   "metadata": {},
   "outputs": [],
   "source": [
    "#Untuk drop kolom yang memiliki persentasi nilai null diatas 30% yaitu Unnamed: 13\n",
    "nc6 = nc5.drop(['Unnamed: 13'], axis = 1)"
   ]
  },
  {
   "cell_type": "code",
   "execution_count": 96,
   "metadata": {},
   "outputs": [
    {
     "data": {
      "text/html": [
       "<div>\n",
       "<style scoped>\n",
       "    .dataframe tbody tr th:only-of-type {\n",
       "        vertical-align: middle;\n",
       "    }\n",
       "\n",
       "    .dataframe tbody tr th {\n",
       "        vertical-align: top;\n",
       "    }\n",
       "\n",
       "    .dataframe thead th {\n",
       "        text-align: right;\n",
       "    }\n",
       "</style>\n",
       "<table border=\"1\" class=\"dataframe\">\n",
       "  <thead>\n",
       "    <tr style=\"text-align: right;\">\n",
       "      <th></th>\n",
       "      <th>Tanggal</th>\n",
       "      <th>Tn</th>\n",
       "      <th>Tx</th>\n",
       "      <th>Tavg</th>\n",
       "      <th>RH_avg</th>\n",
       "      <th>RR</th>\n",
       "      <th>ss</th>\n",
       "      <th>ff_avg</th>\n",
       "      <th>ddd_car</th>\n",
       "    </tr>\n",
       "  </thead>\n",
       "  <tbody>\n",
       "    <tr>\n",
       "      <th>0</th>\n",
       "      <td>01-01-2000</td>\n",
       "      <td>22</td>\n",
       "      <td>31.6</td>\n",
       "      <td>26.6</td>\n",
       "      <td>89</td>\n",
       "      <td>62.8</td>\n",
       "      <td>2</td>\n",
       "      <td>0</td>\n",
       "      <td>N</td>\n",
       "    </tr>\n",
       "    <tr>\n",
       "      <th>1</th>\n",
       "      <td>02-01-2000</td>\n",
       "      <td>22</td>\n",
       "      <td>28.1</td>\n",
       "      <td>25.1</td>\n",
       "      <td>93</td>\n",
       "      <td>0</td>\n",
       "      <td>0</td>\n",
       "      <td>0</td>\n",
       "      <td>W</td>\n",
       "    </tr>\n",
       "    <tr>\n",
       "      <th>2</th>\n",
       "      <td>03-01-2000</td>\n",
       "      <td>22</td>\n",
       "      <td>32.9</td>\n",
       "      <td>26.5</td>\n",
       "      <td>86</td>\n",
       "      <td>0</td>\n",
       "      <td>5.2</td>\n",
       "      <td>0</td>\n",
       "      <td>W</td>\n",
       "    </tr>\n",
       "    <tr>\n",
       "      <th>3</th>\n",
       "      <td>04-01-2000</td>\n",
       "      <td>22</td>\n",
       "      <td>33.6</td>\n",
       "      <td>26.8</td>\n",
       "      <td>90</td>\n",
       "      <td>13.5</td>\n",
       "      <td>5.3</td>\n",
       "      <td>1</td>\n",
       "      <td>W</td>\n",
       "    </tr>\n",
       "    <tr>\n",
       "      <th>4</th>\n",
       "      <td>05-01-2000</td>\n",
       "      <td>23</td>\n",
       "      <td>31.6</td>\n",
       "      <td>26.6</td>\n",
       "      <td>89</td>\n",
       "      <td>43.2</td>\n",
       "      <td>4.3</td>\n",
       "      <td>2</td>\n",
       "      <td>S</td>\n",
       "    </tr>\n",
       "  </tbody>\n",
       "</table>\n",
       "</div>"
      ],
      "text/plain": [
       "      Tanggal  Tn    Tx  Tavg RH_avg    RR   ss ff_avg ddd_car\n",
       "0  01-01-2000  22  31.6  26.6     89  62.8    2      0      N \n",
       "1  02-01-2000  22  28.1  25.1     93     0    0      0      W \n",
       "2  03-01-2000  22  32.9  26.5     86     0  5.2      0      W \n",
       "3  04-01-2000  22  33.6  26.8     90  13.5  5.3      1      W \n",
       "4  05-01-2000  23  31.6  26.6     89  43.2  4.3      2      S "
      ]
     },
     "execution_count": 96,
     "metadata": {},
     "output_type": "execute_result"
    }
   ],
   "source": [
    "#Untuk menampilkan 5 baris teratas dari tabel\n",
    "nc6.head()"
   ]
  },
  {
   "cell_type": "code",
   "execution_count": 97,
   "metadata": {},
   "outputs": [
    {
     "data": {
      "text/plain": [
       "Tanggal    0.000000\n",
       "Tn         0.026504\n",
       "Tx         0.053008\n",
       "Tavg       0.026504\n",
       "RH_avg     0.053008\n",
       "RR         0.026504\n",
       "ss         0.318049\n",
       "ff_avg     0.026504\n",
       "ddd_car    0.053008\n",
       "dtype: float64"
      ]
     },
     "execution_count": 97,
     "metadata": {},
     "output_type": "execute_result"
    }
   ],
   "source": [
    "#Untuk menampilkan persentase nilai null/missing value\n",
    "nc6.isna().sum()/len(nc6)*100\n"
   ]
  },
  {
   "cell_type": "code",
   "execution_count": 98,
   "metadata": {},
   "outputs": [],
   "source": [
    "#Untuk drop kolom yang memiliki persentasi nilai null diatas 30% yaitu ss\n",
    "nc7 = nc6.drop(['ss'], axis = 1)"
   ]
  },
  {
   "cell_type": "code",
   "execution_count": 99,
   "metadata": {},
   "outputs": [
    {
     "data": {
      "text/html": [
       "<div>\n",
       "<style scoped>\n",
       "    .dataframe tbody tr th:only-of-type {\n",
       "        vertical-align: middle;\n",
       "    }\n",
       "\n",
       "    .dataframe tbody tr th {\n",
       "        vertical-align: top;\n",
       "    }\n",
       "\n",
       "    .dataframe thead th {\n",
       "        text-align: right;\n",
       "    }\n",
       "</style>\n",
       "<table border=\"1\" class=\"dataframe\">\n",
       "  <thead>\n",
       "    <tr style=\"text-align: right;\">\n",
       "      <th></th>\n",
       "      <th>Tanggal</th>\n",
       "      <th>Tn</th>\n",
       "      <th>Tx</th>\n",
       "      <th>Tavg</th>\n",
       "      <th>RH_avg</th>\n",
       "      <th>RR</th>\n",
       "      <th>ff_avg</th>\n",
       "      <th>ddd_car</th>\n",
       "    </tr>\n",
       "  </thead>\n",
       "  <tbody>\n",
       "    <tr>\n",
       "      <th>0</th>\n",
       "      <td>01-01-2000</td>\n",
       "      <td>22</td>\n",
       "      <td>31.6</td>\n",
       "      <td>26.6</td>\n",
       "      <td>89</td>\n",
       "      <td>62.8</td>\n",
       "      <td>0</td>\n",
       "      <td>N</td>\n",
       "    </tr>\n",
       "    <tr>\n",
       "      <th>1</th>\n",
       "      <td>02-01-2000</td>\n",
       "      <td>22</td>\n",
       "      <td>28.1</td>\n",
       "      <td>25.1</td>\n",
       "      <td>93</td>\n",
       "      <td>0</td>\n",
       "      <td>0</td>\n",
       "      <td>W</td>\n",
       "    </tr>\n",
       "    <tr>\n",
       "      <th>2</th>\n",
       "      <td>03-01-2000</td>\n",
       "      <td>22</td>\n",
       "      <td>32.9</td>\n",
       "      <td>26.5</td>\n",
       "      <td>86</td>\n",
       "      <td>0</td>\n",
       "      <td>0</td>\n",
       "      <td>W</td>\n",
       "    </tr>\n",
       "    <tr>\n",
       "      <th>3</th>\n",
       "      <td>04-01-2000</td>\n",
       "      <td>22</td>\n",
       "      <td>33.6</td>\n",
       "      <td>26.8</td>\n",
       "      <td>90</td>\n",
       "      <td>13.5</td>\n",
       "      <td>1</td>\n",
       "      <td>W</td>\n",
       "    </tr>\n",
       "    <tr>\n",
       "      <th>4</th>\n",
       "      <td>05-01-2000</td>\n",
       "      <td>23</td>\n",
       "      <td>31.6</td>\n",
       "      <td>26.6</td>\n",
       "      <td>89</td>\n",
       "      <td>43.2</td>\n",
       "      <td>2</td>\n",
       "      <td>S</td>\n",
       "    </tr>\n",
       "  </tbody>\n",
       "</table>\n",
       "</div>"
      ],
      "text/plain": [
       "      Tanggal  Tn    Tx  Tavg RH_avg    RR ff_avg ddd_car\n",
       "0  01-01-2000  22  31.6  26.6     89  62.8      0      N \n",
       "1  02-01-2000  22  28.1  25.1     93     0      0      W \n",
       "2  03-01-2000  22  32.9  26.5     86     0      0      W \n",
       "3  04-01-2000  22  33.6  26.8     90  13.5      1      W \n",
       "4  05-01-2000  23  31.6  26.6     89  43.2      2      S "
      ]
     },
     "execution_count": 99,
     "metadata": {},
     "output_type": "execute_result"
    }
   ],
   "source": [
    "#Untuk menampilkan 5 baris teratas dari tabel\n",
    "nc7.head()"
   ]
  },
  {
   "cell_type": "code",
   "execution_count": 100,
   "metadata": {},
   "outputs": [
    {
     "data": {
      "text/plain": [
       "Tanggal    0.000000\n",
       "Tn         0.026504\n",
       "Tx         0.053008\n",
       "Tavg       0.026504\n",
       "RH_avg     0.053008\n",
       "RR         0.026504\n",
       "ff_avg     0.026504\n",
       "ddd_car    0.053008\n",
       "dtype: float64"
      ]
     },
     "execution_count": 100,
     "metadata": {},
     "output_type": "execute_result"
    }
   ],
   "source": [
    "#Untuk menampilkan persentase nilai null/missing value\n",
    "nc7.isna().sum()/len(nc6)*100\n",
    "#Pembersihan data missing vallues sudah selesai karena sudah tidak ada kolom yang nilai null diatas 30%."
   ]
  },
  {
   "cell_type": "code",
   "execution_count": 102,
   "metadata": {},
   "outputs": [],
   "source": [
    "#Konversi Kolom 'Tanggal' ke Format Datetime\n",
    "nc7['Tanggal'] = pd.to_datetime(nc7['Tanggal'], errors='coerce')"
   ]
  },
  {
   "cell_type": "code",
   "execution_count": 103,
   "metadata": {},
   "outputs": [],
   "source": [
    "#Menambahkan kolom Tahun, Bulan dan Hari pada data frame yang sudah bersih dan di konversi.\n",
    "nc7['Tahun'] = pd.DatetimeIndex(nc7['Tanggal']).year\n",
    "nc7['Bulan'] = pd.DatetimeIndex(nc7['Tanggal']).month\n",
    "nc7['Hari'] = nc7['Tanggal'].dt.day_name()"
   ]
  },
  {
   "cell_type": "code",
   "execution_count": 104,
   "metadata": {},
   "outputs": [
    {
     "name": "stdout",
     "output_type": "stream",
     "text": [
      "        Tanggal  Tn    Tx  Tavg RH_avg    RR ff_avg ddd_car   Tahun  Bulan  \\\n",
      "0    2000-01-01  22  31.6  26.6     89  62.8      0      N   2000.0    1.0   \n",
      "1    2000-02-01  22  28.1  25.1     93     0      0      W   2000.0    2.0   \n",
      "2    2000-03-01  22  32.9  26.5     86     0      0      W   2000.0    3.0   \n",
      "3    2000-04-01  22  33.6  26.8     90  13.5      1      W   2000.0    4.0   \n",
      "4    2000-05-01  23  31.6  26.6     89  43.2      2      S   2000.0    5.0   \n",
      "...         ...  ..   ...   ...    ...   ...    ...     ...     ...    ...   \n",
      "3768        NaT  24  29.6  25.6     89     0      0      S      NaN    NaN   \n",
      "3769        NaT  23    32  27.1     86  12.8      0      S      NaN    NaN   \n",
      "3770        NaT  23  32.4  26.5     84     0      0      W      NaN    NaN   \n",
      "3771        NaT  23  32.8  27.2     83   8.4      1      W      NaN    NaN   \n",
      "3772        NaT  23    32  26.3     88     5      1      SE     NaN    NaN   \n",
      "\n",
      "           Hari  \n",
      "0      Saturday  \n",
      "1       Tuesday  \n",
      "2     Wednesday  \n",
      "3      Saturday  \n",
      "4        Monday  \n",
      "...         ...  \n",
      "3768        NaN  \n",
      "3769        NaN  \n",
      "3770        NaN  \n",
      "3771        NaN  \n",
      "3772        NaN  \n",
      "\n",
      "[3773 rows x 11 columns]\n"
     ]
    }
   ],
   "source": [
    "#Hasil Output setelah menambahkan kolom Tahun, Bulan, dan Hari\n",
    "print(nc7)"
   ]
  },
  {
   "cell_type": "code",
   "execution_count": 105,
   "metadata": {},
   "outputs": [
    {
     "data": {
      "text/html": [
       "<div>\n",
       "<style scoped>\n",
       "    .dataframe tbody tr th:only-of-type {\n",
       "        vertical-align: middle;\n",
       "    }\n",
       "\n",
       "    .dataframe tbody tr th {\n",
       "        vertical-align: top;\n",
       "    }\n",
       "\n",
       "    .dataframe thead th {\n",
       "        text-align: right;\n",
       "    }\n",
       "</style>\n",
       "<table border=\"1\" class=\"dataframe\">\n",
       "  <thead>\n",
       "    <tr style=\"text-align: right;\">\n",
       "      <th></th>\n",
       "      <th>Tanggal</th>\n",
       "      <th>Tn</th>\n",
       "      <th>Tx</th>\n",
       "      <th>Tavg</th>\n",
       "      <th>RH_avg</th>\n",
       "      <th>RR</th>\n",
       "      <th>ff_avg</th>\n",
       "      <th>ddd_car</th>\n",
       "      <th>Tahun</th>\n",
       "      <th>Bulan</th>\n",
       "      <th>Hari</th>\n",
       "    </tr>\n",
       "  </thead>\n",
       "  <tbody>\n",
       "    <tr>\n",
       "      <th>0</th>\n",
       "      <td>2000-01-01</td>\n",
       "      <td>22</td>\n",
       "      <td>31.6</td>\n",
       "      <td>26.6</td>\n",
       "      <td>89</td>\n",
       "      <td>62.8</td>\n",
       "      <td>0</td>\n",
       "      <td>N</td>\n",
       "      <td>2000.0</td>\n",
       "      <td>1.0</td>\n",
       "      <td>Saturday</td>\n",
       "    </tr>\n",
       "    <tr>\n",
       "      <th>1</th>\n",
       "      <td>2000-02-01</td>\n",
       "      <td>22</td>\n",
       "      <td>28.1</td>\n",
       "      <td>25.1</td>\n",
       "      <td>93</td>\n",
       "      <td>0</td>\n",
       "      <td>0</td>\n",
       "      <td>W</td>\n",
       "      <td>2000.0</td>\n",
       "      <td>2.0</td>\n",
       "      <td>Tuesday</td>\n",
       "    </tr>\n",
       "    <tr>\n",
       "      <th>2</th>\n",
       "      <td>2000-03-01</td>\n",
       "      <td>22</td>\n",
       "      <td>32.9</td>\n",
       "      <td>26.5</td>\n",
       "      <td>86</td>\n",
       "      <td>0</td>\n",
       "      <td>0</td>\n",
       "      <td>W</td>\n",
       "      <td>2000.0</td>\n",
       "      <td>3.0</td>\n",
       "      <td>Wednesday</td>\n",
       "    </tr>\n",
       "    <tr>\n",
       "      <th>3</th>\n",
       "      <td>2000-04-01</td>\n",
       "      <td>22</td>\n",
       "      <td>33.6</td>\n",
       "      <td>26.8</td>\n",
       "      <td>90</td>\n",
       "      <td>13.5</td>\n",
       "      <td>1</td>\n",
       "      <td>W</td>\n",
       "      <td>2000.0</td>\n",
       "      <td>4.0</td>\n",
       "      <td>Saturday</td>\n",
       "    </tr>\n",
       "    <tr>\n",
       "      <th>4</th>\n",
       "      <td>2000-05-01</td>\n",
       "      <td>23</td>\n",
       "      <td>31.6</td>\n",
       "      <td>26.6</td>\n",
       "      <td>89</td>\n",
       "      <td>43.2</td>\n",
       "      <td>2</td>\n",
       "      <td>S</td>\n",
       "      <td>2000.0</td>\n",
       "      <td>5.0</td>\n",
       "      <td>Monday</td>\n",
       "    </tr>\n",
       "  </tbody>\n",
       "</table>\n",
       "</div>"
      ],
      "text/plain": [
       "     Tanggal  Tn    Tx  Tavg RH_avg    RR ff_avg ddd_car   Tahun  Bulan  \\\n",
       "0 2000-01-01  22  31.6  26.6     89  62.8      0      N   2000.0    1.0   \n",
       "1 2000-02-01  22  28.1  25.1     93     0      0      W   2000.0    2.0   \n",
       "2 2000-03-01  22  32.9  26.5     86     0      0      W   2000.0    3.0   \n",
       "3 2000-04-01  22  33.6  26.8     90  13.5      1      W   2000.0    4.0   \n",
       "4 2000-05-01  23  31.6  26.6     89  43.2      2      S   2000.0    5.0   \n",
       "\n",
       "        Hari  \n",
       "0   Saturday  \n",
       "1    Tuesday  \n",
       "2  Wednesday  \n",
       "3   Saturday  \n",
       "4     Monday  "
      ]
     },
     "execution_count": 105,
     "metadata": {},
     "output_type": "execute_result"
    }
   ],
   "source": [
    "nc7.head()"
   ]
  },
  {
   "cell_type": "code",
   "execution_count": 106,
   "metadata": {},
   "outputs": [],
   "source": [
    "#Membersihkan data duplikat pada data frame\n",
    "nc7_cleaned = nc7.drop_duplicates()"
   ]
  },
  {
   "cell_type": "code",
   "execution_count": 107,
   "metadata": {},
   "outputs": [
    {
     "name": "stdout",
     "output_type": "stream",
     "text": [
      "        Tanggal  Tn    Tx  Tavg RH_avg    RR ff_avg ddd_car   Tahun  Bulan  \\\n",
      "0    2000-01-01  22  31.6  26.6     89  62.8      0      N   2000.0    1.0   \n",
      "1    2000-02-01  22  28.1  25.1     93     0      0      W   2000.0    2.0   \n",
      "2    2000-03-01  22  32.9  26.5     86     0      0      W   2000.0    3.0   \n",
      "3    2000-04-01  22  33.6  26.8     90  13.5      1      W   2000.0    4.0   \n",
      "4    2000-05-01  23  31.6  26.6     89  43.2      2      S   2000.0    5.0   \n",
      "...         ...  ..   ...   ...    ...   ...    ...     ...     ...    ...   \n",
      "3768        NaT  24  29.6  25.6     89     0      0      S      NaN    NaN   \n",
      "3769        NaT  23    32  27.1     86  12.8      0      S      NaN    NaN   \n",
      "3770        NaT  23  32.4  26.5     84     0      0      W      NaN    NaN   \n",
      "3771        NaT  23  32.8  27.2     83   8.4      1      W      NaN    NaN   \n",
      "3772        NaT  23    32  26.3     88     5      1      SE     NaN    NaN   \n",
      "\n",
      "           Hari  \n",
      "0      Saturday  \n",
      "1       Tuesday  \n",
      "2     Wednesday  \n",
      "3      Saturday  \n",
      "4        Monday  \n",
      "...         ...  \n",
      "3768        NaN  \n",
      "3769        NaN  \n",
      "3770        NaN  \n",
      "3771        NaN  \n",
      "3772        NaN  \n",
      "\n",
      "[3610 rows x 11 columns]\n"
     ]
    }
   ],
   "source": [
    "#Hasil Output setelah data frame di bersihkan dari duplikasi data\n",
    "print(nc7_cleaned)"
   ]
  },
  {
   "cell_type": "code",
   "execution_count": 108,
   "metadata": {},
   "outputs": [
    {
     "data": {
      "text/html": [
       "<div>\n",
       "<style scoped>\n",
       "    .dataframe tbody tr th:only-of-type {\n",
       "        vertical-align: middle;\n",
       "    }\n",
       "\n",
       "    .dataframe tbody tr th {\n",
       "        vertical-align: top;\n",
       "    }\n",
       "\n",
       "    .dataframe thead th {\n",
       "        text-align: right;\n",
       "    }\n",
       "</style>\n",
       "<table border=\"1\" class=\"dataframe\">\n",
       "  <thead>\n",
       "    <tr style=\"text-align: right;\">\n",
       "      <th></th>\n",
       "      <th>Tanggal</th>\n",
       "      <th>Tn</th>\n",
       "      <th>Tx</th>\n",
       "      <th>Tavg</th>\n",
       "      <th>RH_avg</th>\n",
       "      <th>RR</th>\n",
       "      <th>ff_avg</th>\n",
       "      <th>ddd_car</th>\n",
       "      <th>Tahun</th>\n",
       "      <th>Bulan</th>\n",
       "      <th>Hari</th>\n",
       "    </tr>\n",
       "  </thead>\n",
       "  <tbody>\n",
       "    <tr>\n",
       "      <th>0</th>\n",
       "      <td>2000-01-01</td>\n",
       "      <td>22</td>\n",
       "      <td>31.6</td>\n",
       "      <td>26.6</td>\n",
       "      <td>89</td>\n",
       "      <td>62.8</td>\n",
       "      <td>0</td>\n",
       "      <td>N</td>\n",
       "      <td>2000.0</td>\n",
       "      <td>1.0</td>\n",
       "      <td>Saturday</td>\n",
       "    </tr>\n",
       "    <tr>\n",
       "      <th>1</th>\n",
       "      <td>2000-02-01</td>\n",
       "      <td>22</td>\n",
       "      <td>28.1</td>\n",
       "      <td>25.1</td>\n",
       "      <td>93</td>\n",
       "      <td>0</td>\n",
       "      <td>0</td>\n",
       "      <td>W</td>\n",
       "      <td>2000.0</td>\n",
       "      <td>2.0</td>\n",
       "      <td>Tuesday</td>\n",
       "    </tr>\n",
       "    <tr>\n",
       "      <th>2</th>\n",
       "      <td>2000-03-01</td>\n",
       "      <td>22</td>\n",
       "      <td>32.9</td>\n",
       "      <td>26.5</td>\n",
       "      <td>86</td>\n",
       "      <td>0</td>\n",
       "      <td>0</td>\n",
       "      <td>W</td>\n",
       "      <td>2000.0</td>\n",
       "      <td>3.0</td>\n",
       "      <td>Wednesday</td>\n",
       "    </tr>\n",
       "    <tr>\n",
       "      <th>3</th>\n",
       "      <td>2000-04-01</td>\n",
       "      <td>22</td>\n",
       "      <td>33.6</td>\n",
       "      <td>26.8</td>\n",
       "      <td>90</td>\n",
       "      <td>13.5</td>\n",
       "      <td>1</td>\n",
       "      <td>W</td>\n",
       "      <td>2000.0</td>\n",
       "      <td>4.0</td>\n",
       "      <td>Saturday</td>\n",
       "    </tr>\n",
       "    <tr>\n",
       "      <th>4</th>\n",
       "      <td>2000-05-01</td>\n",
       "      <td>23</td>\n",
       "      <td>31.6</td>\n",
       "      <td>26.6</td>\n",
       "      <td>89</td>\n",
       "      <td>43.2</td>\n",
       "      <td>2</td>\n",
       "      <td>S</td>\n",
       "      <td>2000.0</td>\n",
       "      <td>5.0</td>\n",
       "      <td>Monday</td>\n",
       "    </tr>\n",
       "  </tbody>\n",
       "</table>\n",
       "</div>"
      ],
      "text/plain": [
       "     Tanggal  Tn    Tx  Tavg RH_avg    RR ff_avg ddd_car   Tahun  Bulan  \\\n",
       "0 2000-01-01  22  31.6  26.6     89  62.8      0      N   2000.0    1.0   \n",
       "1 2000-02-01  22  28.1  25.1     93     0      0      W   2000.0    2.0   \n",
       "2 2000-03-01  22  32.9  26.5     86     0      0      W   2000.0    3.0   \n",
       "3 2000-04-01  22  33.6  26.8     90  13.5      1      W   2000.0    4.0   \n",
       "4 2000-05-01  23  31.6  26.6     89  43.2      2      S   2000.0    5.0   \n",
       "\n",
       "        Hari  \n",
       "0   Saturday  \n",
       "1    Tuesday  \n",
       "2  Wednesday  \n",
       "3   Saturday  \n",
       "4     Monday  "
      ]
     },
     "execution_count": 108,
     "metadata": {},
     "output_type": "execute_result"
    }
   ],
   "source": [
    "nc7_cleaned.head()"
   ]
  },
  {
   "cell_type": "code",
   "execution_count": 109,
   "metadata": {},
   "outputs": [],
   "source": [
    "nc7.to_excel(\"825220054_dataset_bersih.xlsx\")"
   ]
  },
  {
   "cell_type": "code",
   "execution_count": 111,
   "metadata": {},
   "outputs": [],
   "source": [
    "import pandas as pd\n",
    "import numpy as np\n",
    "import openpyxl as wb\n",
    "import matplotlib.pyplot as plt\n",
    "\n",
    "#Membaca data dari excel \"825220054_dataset_bersih.xlsx\"\n",
    "dfClean = pd.read_excel(\"825220054_dataset_bersih.xlsx\", sheet_name=\"Sheet1\")"
   ]
  },
  {
   "cell_type": "code",
   "execution_count": 113,
   "metadata": {},
   "outputs": [],
   "source": [
    "#Mengkonversikan kolom 'value' ke numeric, mengatur errors='coerce' akan menyalakan values yang tidak dapat di konversikan menjadi NaN\n",
    "dfClean['Tn'] = pd.to_numeric(nc7['Tn'], errors='coerce')\n",
    "dfClean['Tx'] = pd.to_numeric(nc7['Tx'], errors='coerce')\n",
    "dfClean['Tavg'] = pd.to_numeric(nc7['Tavg'], errors='coerce')\n",
    "dfClean['RH_avg'] = pd.to_numeric(nc7['RH_avg'], errors='coerce')\n",
    "dfClean['RR'] = pd.to_numeric(nc7['RR'], errors='coerce')\n",
    "dfClean['ff_avg'] = pd.to_numeric(nc7['ff_avg'], errors='coerce')"
   ]
  },
  {
   "cell_type": "code",
   "execution_count": 128,
   "metadata": {},
   "outputs": [
    {
     "data": {
      "text/plain": [
       "Text(0.5, 1.0, 'Tren Tahunan Temperatur Minimum')"
      ]
     },
     "execution_count": 128,
     "metadata": {},
     "output_type": "execute_result"
    },
    {
     "data": {
      "image/png": "[encoded data removed]",
      "text/plain": [
       "<Figure size 640x480 with 1 Axes>"
      ]
     },
     "metadata": {},
     "output_type": "display_data"
    }
   ],
   "source": [
    "var = 'Tn'\n",
    "dfClean.groupby('Tahun')[var].min().plot(marker = 's', legend=True, color = 'blue')\n",
    "plt.ylabel(var)\n",
    "plt.xticks([2000, 2001, 2002, 2003, 2004, 2005, 2006, 2007, 2008, 2009 ], ['2000', '2001', '2002', '2003', '2004', '2005', '2006', '2007', '2008', '2009' ], rotation=40)\n",
    "plt.xlabel('Tahun')\n",
    "plt.title('Tren Tahunan Temperatur Minimum')"
   ]
  },
  {
   "cell_type": "code",
   "execution_count": 127,
   "metadata": {},
   "outputs": [
    {
     "data": {
      "text/plain": [
       "Text(0.5, 1.0, 'Tren Tahunan Temperatur Maximum')"
      ]
     },
     "execution_count": 127,
     "metadata": {},
     "output_type": "execute_result"
    },
    {
     "data": {
      "image/png": "[encoded data removed]",
      "text/plain": [
       "<Figure size 640x480 with 1 Axes>"
      ]
     },
     "metadata": {},
     "output_type": "display_data"
    }
   ],
   "source": [
    "var = 'Tx'\n",
    "dfClean.groupby('Tahun')[var].max().plot(marker = 's', legend=True, color = 'pink')\n",
    "plt.ylabel(var)\n",
    "plt.xticks([2000, 2001, 2002, 2003, 2004, 2005, 2006, 2007, 2008, 2009 ], ['2000', '2001', '2002', '2003', '2004', '2005', '2006', '2007', '2008', '2009' ], rotation=40)\n",
    "plt.xlabel('Tahun')\n",
    "plt.title('Tren Tahunan Temperatur Maximum')"
   ]
  },
  {
   "cell_type": "code",
   "execution_count": 126,
   "metadata": {},
   "outputs": [
    {
     "data": {
      "text/plain": [
       "Text(0.5, 1.0, 'Tren Tahunan Temperatur Rata-Rata')"
      ]
     },
     "execution_count": 126,
     "metadata": {},
     "output_type": "execute_result"
    },
    {
     "data": {
      "image/png": "[encoded data removed]",
      "text/plain": [
       "<Figure size 640x480 with 1 Axes>"
      ]
     },
     "metadata": {},
     "output_type": "display_data"
    }
   ],
   "source": [
    "var = 'Tavg'\n",
    "dfClean.groupby('Tahun')[var].mean().plot(marker = 's', legend=True, color = 'yellow')\n",
    "plt.ylabel(var)\n",
    "plt.xticks([2000, 2001, 2002, 2003, 2004, 2005, 2006, 2007, 2008, 2009 ], ['2000', '2001', '2002', '2003', '2004', '2005', '2006', '2007', '2008', '2009' ], rotation=40)\n",
    "plt.xlabel('Tahun')\n",
    "plt.title('Tren Tahunan Temperatur Rata-Rata')"
   ]
  },
  {
   "cell_type": "code",
   "execution_count": 125,
   "metadata": {},
   "outputs": [
    {
     "data": {
      "text/plain": [
       "Text(0.5, 1.0, 'Tren Tahunan Kelembaban Rata-Rata')"
      ]
     },
     "execution_count": 125,
     "metadata": {},
     "output_type": "execute_result"
    },
    {
     "data": {
      "image/png": "[encoded data removed]",
      "text/plain": [
       "<Figure size 640x480 with 1 Axes>"
      ]
     },
     "metadata": {},
     "output_type": "display_data"
    }
   ],
   "source": [
    "var = 'RH_avg'\n",
    "dfClean.groupby('Tahun')[var].mean().plot(marker = 's', legend=True, color = 'purple')\n",
    "plt.ylabel(var)\n",
    "plt.xticks([2000, 2001, 2002, 2003, 2004, 2005, 2006, 2007, 2008, 2009 ], ['2000', '2001', '2002', '2003', '2004', '2005', '2006', '2007', '2008', '2009' ], rotation=40)\n",
    "plt.xlabel('Tahun')\n",
    "plt.title('Tren Tahunan Kelembaban Rata-Rata')"
   ]
  },
  {
   "cell_type": "code",
   "execution_count": 121,
   "metadata": {},
   "outputs": [
    {
     "data": {
      "text/plain": [
       "Text(0.5, 1.0, 'Tren Tahunan Curah Hujan')"
      ]
     },
     "execution_count": 121,
     "metadata": {},
     "output_type": "execute_result"
    },
    {
     "data": {
      "image/png": "[encoded data removed]",
      "text/plain": [
       "<Figure size 640x480 with 1 Axes>"
      ]
     },
     "metadata": {},
     "output_type": "display_data"
    }
   ],
   "source": [
    "var = 'RR'\n",
    "dfClean.groupby('Tahun')[var].mean().plot(marker = 's', legend=True, color = 'orange')\n",
    "plt.ylabel(var)\n",
    "plt.xticks([2000, 2001, 2002, 2003, 2004, 2005, 2006, 2007, 2008, 2009 ], ['2000', '2001', '2002', '2003', '2004', '2005', '2006', '2007', '2008', '2009' ], rotation=40)\n",
    "plt.xlabel('Tahun')\n",
    "plt.title('Tren Tahunan Curah Hujan')"
   ]
  },
  {
   "cell_type": "code",
   "execution_count": 124,
   "metadata": {},
   "outputs": [
    {
     "data": {
      "text/plain": [
       "Text(0.5, 1.0, 'Tren Tahunan Kecepatan Angin Rata-Rata')"
      ]
     },
     "execution_count": 124,
     "metadata": {},
     "output_type": "execute_result"
    },
    {
     "data": {
      "image/png": "[encoded data removed]",
      "text/plain": [
       "<Figure size 640x480 with 1 Axes>"
      ]
     },
     "metadata": {},
     "output_type": "display_data"
    }
   ],
   "source": [
    "var = 'ff_avg'\n",
    "dfClean.groupby('Tahun')[var].mean().plot(marker = 's', legend=True, color = 'brown')\n",
    "plt.ylabel(var)\n",
    "plt.xticks([2000, 2001, 2002, 2003, 2004, 2005, 2006, 2007, 2008, 2009 ], ['2000', '2001', '2002', '2003', '2004', '2005', '2006', '2007', '2008', '2009' ], rotation=40)\n",
    "plt.xlabel('Tahun')\n",
    "plt.title('Tren Tahunan Kecepatan Angin Rata-Rata')"
   ]
  }
 ],
 "metadata": {
  "kernelspec": {
   "display_name": "Python 3",
   "language": "python",
   "name": "python3"
  },
  "language_info": {
   "codemirror_mode": {
    "name": "ipython",
    "version": 3
   },
   "file_extension": ".py",
   "mimetype": "text/x-python",
   "name": "python",
   "nbconvert_exporter": "python",
   "pygments_lexer": "ipython3",
   "version": "3.9.6"
  }
 },
 "nbformat": 4,
 "nbformat_minor": 2
}
